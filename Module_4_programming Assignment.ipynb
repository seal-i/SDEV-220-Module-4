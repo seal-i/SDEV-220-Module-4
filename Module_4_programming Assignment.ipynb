{
 "cells": [
  {
   "cell_type": "code",
   "execution_count": null,
   "id": "f6d3c071-5a40-418c-a863-52791b0213ee",
   "metadata": {},
   "outputs": [],
   "source": [
    "# 11.1\n",
    "# Create zoo.py file\n",
    "\n",
    "def hours():\n",
    "    print(\"Open 9-5 daily\")"
   ]
  },
  {
   "cell_type": "code",
   "execution_count": null,
   "id": "7256769c-0511-4851-9d3b-16add50f55d3",
   "metadata": {},
   "outputs": [],
   "source": [
    "#11.1\n",
    "# Import zoo\n",
    "# zoo.hours()"
   ]
  },
  {
   "cell_type": "code",
   "execution_count": null,
   "id": "3c2df549-f34a-4a54-808a-83dadb9bd704",
   "metadata": {},
   "outputs": [],
   "source": [
    "# 11.2\n",
    "import zoo as menagerie\n",
    "menagerie.hours()"
   ]
  },
  {
   "cell_type": "code",
   "execution_count": null,
   "id": "0f31fe5d-5726-4f08-b942-308469b457a6",
   "metadata": {},
   "outputs": [],
   "source": [
    "# 16.8\n",
    "from sqlalchemy import create_engine, Table, Column, Integer, String, MetaData, select\n",
    "\n",
    "# Connect to SQLite database\n",
    "engine = create_engine('sqlite:///books.db')\n",
    "metadata = MetaData()\n",
    "\n",
    "# Define the books table\n",
    "books = Table('books', metadata,\n",
    "              Column('title', String),\n",
    "              Column('author', String),\n",
    "              Column('year', Integer))\n",
    "\n",
    "# Select and print titles in alphabetical order\n",
    "with engine.connect() as conn:\n",
    "    query = select(books.c.title).order_by(books.c.title)\n",
    "    result = conn.execute(query)\n",
    "    for row in result:\n",
    "        print(row[0])\n"
   ]
  }
 ],
 "metadata": {
  "kernelspec": {
   "display_name": "Python 3 (ipykernel)",
   "language": "python",
   "name": "python3"
  },
  "language_info": {
   "codemirror_mode": {
    "name": "ipython",
    "version": 3
   },
   "file_extension": ".py",
   "mimetype": "text/x-python",
   "name": "python",
   "nbconvert_exporter": "python",
   "pygments_lexer": "ipython3",
   "version": "3.12.7"
  }
 },
 "nbformat": 4,
 "nbformat_minor": 5
}
